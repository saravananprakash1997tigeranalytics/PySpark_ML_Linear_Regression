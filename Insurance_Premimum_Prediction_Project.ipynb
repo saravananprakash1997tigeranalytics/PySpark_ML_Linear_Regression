{
  "nbformat": 4,
  "nbformat_minor": 0,
  "metadata": {
    "colab": {
      "name": "Insurance_Premimum_Prediction_Project.ipynb",
      "provenance": []
    },
    "kernelspec": {
      "name": "python3",
      "display_name": "Python 3"
    },
    "language_info": {
      "name": "python"
    }
  },
  "cells": [
    {
      "cell_type": "markdown",
      "source": [
        ""
      ],
      "metadata": {
        "id": "fUulQmfwNmRj"
      }
    },
    {
      "cell_type": "markdown",
      "source": [
        "Installing the Pyspark Library"
      ],
      "metadata": {
        "id": "3xCsfXzHNqSc"
      }
    },
    {
      "cell_type": "code",
      "execution_count": 1,
      "metadata": {
        "colab": {
          "base_uri": "https://localhost:8080/"
        },
        "id": "UheTmtzDNK0f",
        "outputId": "a2c1f190-8c3c-42a8-a220-553d34540801"
      },
      "outputs": [
        {
          "output_type": "stream",
          "name": "stdout",
          "text": [
            "Looking in indexes: https://pypi.org/simple, https://us-python.pkg.dev/colab-wheels/public/simple/\n",
            "Collecting pyspark\n",
            "  Downloading pyspark-3.3.0.tar.gz (281.3 MB)\n",
            "\u001b[K     |████████████████████████████████| 281.3 MB 44 kB/s \n",
            "\u001b[?25hCollecting py4j==0.10.9.5\n",
            "  Downloading py4j-0.10.9.5-py2.py3-none-any.whl (199 kB)\n",
            "\u001b[K     |████████████████████████████████| 199 kB 45.9 MB/s \n",
            "\u001b[?25hBuilding wheels for collected packages: pyspark\n",
            "  Building wheel for pyspark (setup.py) ... \u001b[?25l\u001b[?25hdone\n",
            "  Created wheel for pyspark: filename=pyspark-3.3.0-py2.py3-none-any.whl size=281764026 sha256=11d5eb2fee2ada32aa8513a233964b2a4c8e16d25cb982754dc427c382c5381c\n",
            "  Stored in directory: /root/.cache/pip/wheels/7a/8e/1b/f73a52650d2e5f337708d9f6a1750d451a7349a867f928b885\n",
            "Successfully built pyspark\n",
            "Installing collected packages: py4j, pyspark\n",
            "Successfully installed py4j-0.10.9.5 pyspark-3.3.0\n"
          ]
        }
      ],
      "source": [
        "pip install pyspark"
      ]
    },
    {
      "cell_type": "markdown",
      "source": [
        "Creating the Spark Session"
      ],
      "metadata": {
        "id": "26iTzK_TNhN2"
      }
    },
    {
      "cell_type": "code",
      "source": [
        "from pyspark.sql import SparkSession\n",
        "spark = SparkSession.builder.master(\"local[1]\").appName(\"Insurance_Premium_Prediction\").getOrCreate()"
      ],
      "metadata": {
        "id": "v42TcYfoNgfR"
      },
      "execution_count": 44,
      "outputs": []
    },
    {
      "cell_type": "markdown",
      "source": [
        "Importing the Source Dataset"
      ],
      "metadata": {
        "id": "_9n4xFqeOFXl"
      }
    },
    {
      "cell_type": "code",
      "source": [
        "df = spark.read.csv(\"Medicalpremium.csv\", header = True, inferSchema = True)"
      ],
      "metadata": {
        "id": "uKuDBWPpN7z8"
      },
      "execution_count": 45,
      "outputs": []
    },
    {
      "cell_type": "code",
      "source": [
        "df.show()"
      ],
      "metadata": {
        "colab": {
          "base_uri": "https://localhost:8080/"
        },
        "id": "se2sq6-gOCIa",
        "outputId": "c7c6f2be-b440-40c3-ab5d-6fd2d787b0e4"
      },
      "execution_count": 46,
      "outputs": [
        {
          "output_type": "stream",
          "name": "stdout",
          "text": [
            "+---+--------+---------------------+--------------+------------------+------+------+--------------+-----------------------+----------------------+------------+\n",
            "|Age|Diabetes|BloodPressureProblems|AnyTransplants|AnyChronicDiseases|Height|Weight|KnownAllergies|HistoryOfCancerInFamily|NumberOfMajorSurgeries|PremiumPrice|\n",
            "+---+--------+---------------------+--------------+------------------+------+------+--------------+-----------------------+----------------------+------------+\n",
            "| 45|       0|                    0|             0|                 0|   155|    57|             0|                      0|                     0|       25000|\n",
            "| 60|       1|                    0|             0|                 0|   180|    73|             0|                      0|                     0|       29000|\n",
            "| 36|       1|                    1|             0|                 0|   158|    59|             0|                      0|                     1|       23000|\n",
            "| 52|       1|                    1|             0|                 1|   183|    93|             0|                      0|                     2|       28000|\n",
            "| 38|       0|                    0|             0|                 1|   166|    88|             0|                      0|                     1|       23000|\n",
            "| 30|       0|                    0|             0|                 0|   160|    69|             1|                      0|                     1|       23000|\n",
            "| 33|       0|                    0|             0|                 0|   150|    54|             0|                      0|                     0|       21000|\n",
            "| 23|       0|                    0|             0|                 0|   181|    79|             1|                      0|                     0|       15000|\n",
            "| 48|       1|                    0|             0|                 0|   169|    74|             1|                      0|                     0|       23000|\n",
            "| 38|       0|                    0|             0|                 0|   182|    93|             0|                      0|                     0|       23000|\n",
            "| 60|       0|                    1|             0|                 0|   175|    74|             0|                      0|                     2|       28000|\n",
            "| 66|       1|                    0|             0|                 0|   186|    67|             0|                      0|                     0|       25000|\n",
            "| 24|       0|                    0|             0|                 0|   178|    57|             1|                      0|                     1|       15000|\n",
            "| 46|       0|                    1|             0|                 0|   184|    97|             0|                      0|                     0|       35000|\n",
            "| 18|       0|                    0|             1|                 0|   150|    76|             0|                      0|                     1|       15000|\n",
            "| 38|       0|                    0|             0|                 0|   160|    68|             1|                      0|                     1|       23000|\n",
            "| 42|       0|                    0|             0|                 1|   149|    67|             0|                      0|                     0|       30000|\n",
            "| 38|       1|                    0|             0|                 0|   154|    82|             0|                      0|                     0|       23000|\n",
            "| 57|       1|                    0|             0|                 0|   156|    61|             0|                      0|                     0|       25000|\n",
            "| 21|       0|                    1|             0|                 0|   186|    97|             0|                      0|                     0|       15000|\n",
            "+---+--------+---------------------+--------------+------------------+------+------+--------------+-----------------------+----------------------+------------+\n",
            "only showing top 20 rows\n",
            "\n"
          ]
        }
      ]
    },
    {
      "cell_type": "markdown",
      "source": [
        "Checking for the Correlation between Independent features and Dependent Feature"
      ],
      "metadata": {
        "id": "mbbBxkrXO2wx"
      }
    },
    {
      "cell_type": "code",
      "source": [
        "columns_list = list(df.columns)\n",
        "for column in columns_list :\n",
        "  if column == columns_list[-1]:\n",
        "    pass\n",
        "  else :\n",
        "    print(f\"Correlation between Independent feature {column} and Dependent feature  {columns_list[-1]} is \", end = \"\" )\n",
        "    print(df.corr(column, columns_list[-1]))"
      ],
      "metadata": {
        "colab": {
          "base_uri": "https://localhost:8080/"
        },
        "id": "6M8Yfk8qOzkQ",
        "outputId": "17cad76c-a119-447b-8e46-dff9469c1a9f"
      },
      "execution_count": 47,
      "outputs": [
        {
          "output_type": "stream",
          "name": "stdout",
          "text": [
            "Correlation between Independent feature Age and Dependent feature  PremiumPrice is 0.6975399655058024\n",
            "Correlation between Independent feature Diabetes and Dependent feature  PremiumPrice is 0.07620924095592171\n",
            "Correlation between Independent feature BloodPressureProblems and Dependent feature  PremiumPrice is 0.16709674701094776\n",
            "Correlation between Independent feature AnyTransplants and Dependent feature  PremiumPrice is 0.2890559369634019\n",
            "Correlation between Independent feature AnyChronicDiseases and Dependent feature  PremiumPrice is 0.20860986049455094\n",
            "Correlation between Independent feature Height and Dependent feature  PremiumPrice is 0.026909513982139487\n",
            "Correlation between Independent feature Weight and Dependent feature  PremiumPrice is 0.14150740525639777\n",
            "Correlation between Independent feature KnownAllergies and Dependent feature  PremiumPrice is 0.01210279064300931\n",
            "Correlation between Independent feature HistoryOfCancerInFamily and Dependent feature  PremiumPrice is 0.08313941651638128\n",
            "Correlation between Independent feature NumberOfMajorSurgeries and Dependent feature  PremiumPrice is 0.2642495293574177\n"
          ]
        }
      ]
    },
    {
      "cell_type": "markdown",
      "source": [
        "Since No correlation between independent features with dependent feature is greater than 0.9 or less than -0.9, their is no necessity for dropping any independent feature"
      ],
      "metadata": {
        "id": "TruE7kwLQhkA"
      }
    },
    {
      "cell_type": "markdown",
      "source": [
        "Applying VectorAssembler"
      ],
      "metadata": {
        "id": "wFI11FqhQ5PZ"
      }
    },
    {
      "cell_type": "code",
      "source": [
        "from pyspark.ml.feature import VectorAssembler\n",
        "independent_cols = list(df.columns)\n",
        "independent_cols = independent_cols[:-1]\n",
        "assembler = VectorAssembler(inputCols= independent_cols, outputCol=\"independent_features\")\n",
        "df = assembler.transform(df)"
      ],
      "metadata": {
        "id": "cYKNfpIaPn-t"
      },
      "execution_count": 48,
      "outputs": []
    },
    {
      "cell_type": "code",
      "source": [
        "df.show(truncate = False)"
      ],
      "metadata": {
        "colab": {
          "base_uri": "https://localhost:8080/"
        },
        "id": "JbBx7BFbRf2m",
        "outputId": "2bc587f1-fbb5-4530-f21d-02632919d93a"
      },
      "execution_count": 49,
      "outputs": [
        {
          "output_type": "stream",
          "name": "stdout",
          "text": [
            "+---+--------+---------------------+--------------+------------------+------+------+--------------+-----------------------+----------------------+------------+---------------------------------------------+\n",
            "|Age|Diabetes|BloodPressureProblems|AnyTransplants|AnyChronicDiseases|Height|Weight|KnownAllergies|HistoryOfCancerInFamily|NumberOfMajorSurgeries|PremiumPrice|independent_features                         |\n",
            "+---+--------+---------------------+--------------+------------------+------+------+--------------+-----------------------+----------------------+------------+---------------------------------------------+\n",
            "|45 |0       |0                    |0             |0                 |155   |57    |0             |0                      |0                     |25000       |(10,[0,5,6],[45.0,155.0,57.0])               |\n",
            "|60 |1       |0                    |0             |0                 |180   |73    |0             |0                      |0                     |29000       |(10,[0,1,5,6],[60.0,1.0,180.0,73.0])         |\n",
            "|36 |1       |1                    |0             |0                 |158   |59    |0             |0                      |1                     |23000       |[36.0,1.0,1.0,0.0,0.0,158.0,59.0,0.0,0.0,1.0]|\n",
            "|52 |1       |1                    |0             |1                 |183   |93    |0             |0                      |2                     |28000       |[52.0,1.0,1.0,0.0,1.0,183.0,93.0,0.0,0.0,2.0]|\n",
            "|38 |0       |0                    |0             |1                 |166   |88    |0             |0                      |1                     |23000       |(10,[0,4,5,6,9],[38.0,1.0,166.0,88.0,1.0])   |\n",
            "|30 |0       |0                    |0             |0                 |160   |69    |1             |0                      |1                     |23000       |(10,[0,5,6,7,9],[30.0,160.0,69.0,1.0,1.0])   |\n",
            "|33 |0       |0                    |0             |0                 |150   |54    |0             |0                      |0                     |21000       |(10,[0,5,6],[33.0,150.0,54.0])               |\n",
            "|23 |0       |0                    |0             |0                 |181   |79    |1             |0                      |0                     |15000       |(10,[0,5,6,7],[23.0,181.0,79.0,1.0])         |\n",
            "|48 |1       |0                    |0             |0                 |169   |74    |1             |0                      |0                     |23000       |(10,[0,1,5,6,7],[48.0,1.0,169.0,74.0,1.0])   |\n",
            "|38 |0       |0                    |0             |0                 |182   |93    |0             |0                      |0                     |23000       |(10,[0,5,6],[38.0,182.0,93.0])               |\n",
            "|60 |0       |1                    |0             |0                 |175   |74    |0             |0                      |2                     |28000       |(10,[0,2,5,6,9],[60.0,1.0,175.0,74.0,2.0])   |\n",
            "|66 |1       |0                    |0             |0                 |186   |67    |0             |0                      |0                     |25000       |(10,[0,1,5,6],[66.0,1.0,186.0,67.0])         |\n",
            "|24 |0       |0                    |0             |0                 |178   |57    |1             |0                      |1                     |15000       |(10,[0,5,6,7,9],[24.0,178.0,57.0,1.0,1.0])   |\n",
            "|46 |0       |1                    |0             |0                 |184   |97    |0             |0                      |0                     |35000       |(10,[0,2,5,6],[46.0,1.0,184.0,97.0])         |\n",
            "|18 |0       |0                    |1             |0                 |150   |76    |0             |0                      |1                     |15000       |(10,[0,3,5,6,9],[18.0,1.0,150.0,76.0,1.0])   |\n",
            "|38 |0       |0                    |0             |0                 |160   |68    |1             |0                      |1                     |23000       |(10,[0,5,6,7,9],[38.0,160.0,68.0,1.0,1.0])   |\n",
            "|42 |0       |0                    |0             |1                 |149   |67    |0             |0                      |0                     |30000       |(10,[0,4,5,6],[42.0,1.0,149.0,67.0])         |\n",
            "|38 |1       |0                    |0             |0                 |154   |82    |0             |0                      |0                     |23000       |(10,[0,1,5,6],[38.0,1.0,154.0,82.0])         |\n",
            "|57 |1       |0                    |0             |0                 |156   |61    |0             |0                      |0                     |25000       |(10,[0,1,5,6],[57.0,1.0,156.0,61.0])         |\n",
            "|21 |0       |1                    |0             |0                 |186   |97    |0             |0                      |0                     |15000       |(10,[0,2,5,6],[21.0,1.0,186.0,97.0])         |\n",
            "+---+--------+---------------------+--------------+------------------+------+------+--------------+-----------------------+----------------------+------------+---------------------------------------------+\n",
            "only showing top 20 rows\n",
            "\n"
          ]
        }
      ]
    },
    {
      "cell_type": "code",
      "source": [
        "df_new = df.select([\"independent_features\", \"PremiumPrice\"])"
      ],
      "metadata": {
        "id": "ebqPBRxxRyQg"
      },
      "execution_count": 52,
      "outputs": []
    },
    {
      "cell_type": "markdown",
      "source": [
        "Splitting the Data into train and test data"
      ],
      "metadata": {
        "id": "9VPB35WqZj6B"
      }
    },
    {
      "cell_type": "code",
      "source": [
        "df_new.show()"
      ],
      "metadata": {
        "colab": {
          "base_uri": "https://localhost:8080/"
        },
        "id": "AOH1AGyJZ0Wo",
        "outputId": "242885ba-bba1-4b5a-bae7-2ff5c1171fe3"
      },
      "execution_count": 53,
      "outputs": [
        {
          "output_type": "stream",
          "name": "stdout",
          "text": [
            "+--------------------+------------+\n",
            "|independent_features|PremiumPrice|\n",
            "+--------------------+------------+\n",
            "|(10,[0,5,6],[45.0...|       25000|\n",
            "|(10,[0,1,5,6],[60...|       29000|\n",
            "|[36.0,1.0,1.0,0.0...|       23000|\n",
            "|[52.0,1.0,1.0,0.0...|       28000|\n",
            "|(10,[0,4,5,6,9],[...|       23000|\n",
            "|(10,[0,5,6,7,9],[...|       23000|\n",
            "|(10,[0,5,6],[33.0...|       21000|\n",
            "|(10,[0,5,6,7],[23...|       15000|\n",
            "|(10,[0,1,5,6,7],[...|       23000|\n",
            "|(10,[0,5,6],[38.0...|       23000|\n",
            "|(10,[0,2,5,6,9],[...|       28000|\n",
            "|(10,[0,1,5,6],[66...|       25000|\n",
            "|(10,[0,5,6,7,9],[...|       15000|\n",
            "|(10,[0,2,5,6],[46...|       35000|\n",
            "|(10,[0,3,5,6,9],[...|       15000|\n",
            "|(10,[0,5,6,7,9],[...|       23000|\n",
            "|(10,[0,4,5,6],[42...|       30000|\n",
            "|(10,[0,1,5,6],[38...|       23000|\n",
            "|(10,[0,1,5,6],[57...|       25000|\n",
            "|(10,[0,2,5,6],[21...|       15000|\n",
            "+--------------------+------------+\n",
            "only showing top 20 rows\n",
            "\n"
          ]
        }
      ]
    },
    {
      "cell_type": "code",
      "source": [
        "train_data , test_data = df_new.randomSplit([0.7,0.3])"
      ],
      "metadata": {
        "id": "gHQAXtz4TYQq"
      },
      "execution_count": 54,
      "outputs": []
    },
    {
      "cell_type": "code",
      "source": [
        "train_data.show()"
      ],
      "metadata": {
        "colab": {
          "base_uri": "https://localhost:8080/"
        },
        "id": "HPWk79tuZnkL",
        "outputId": "b54ff711-e952-438d-a22a-3aff33432630"
      },
      "execution_count": 55,
      "outputs": [
        {
          "output_type": "stream",
          "name": "stdout",
          "text": [
            "+--------------------+------------+\n",
            "|independent_features|PremiumPrice|\n",
            "+--------------------+------------+\n",
            "|(10,[0,1,2,5,6],[...|       26000|\n",
            "|(10,[0,1,2,5,6],[...|       15000|\n",
            "|(10,[0,1,2,5,6],[...|       15000|\n",
            "|(10,[0,1,2,5,6],[...|       15000|\n",
            "|(10,[0,1,2,5,6],[...|       15000|\n",
            "|(10,[0,1,2,5,6],[...|       15000|\n",
            "|(10,[0,1,2,5,6],[...|       15000|\n",
            "|(10,[0,1,2,5,6],[...|       15000|\n",
            "|(10,[0,1,2,5,6],[...|       15000|\n",
            "|(10,[0,1,2,5,6],[...|       15000|\n",
            "|(10,[0,1,2,5,6],[...|       15000|\n",
            "|(10,[0,1,2,5,6],[...|       23000|\n",
            "|(10,[0,1,2,5,6],[...|       23000|\n",
            "|(10,[0,1,2,5,6],[...|       23000|\n",
            "|(10,[0,1,2,5,6],[...|       23000|\n",
            "|(10,[0,1,2,5,6],[...|       23000|\n",
            "|(10,[0,1,2,5,6],[...|       23000|\n",
            "|(10,[0,1,2,5,6],[...|       23000|\n",
            "|(10,[0,1,2,5,6],[...|       23000|\n",
            "|(10,[0,1,2,5,6],[...|       23000|\n",
            "+--------------------+------------+\n",
            "only showing top 20 rows\n",
            "\n"
          ]
        }
      ]
    },
    {
      "cell_type": "code",
      "source": [
        "test_data.show()"
      ],
      "metadata": {
        "colab": {
          "base_uri": "https://localhost:8080/"
        },
        "id": "DsLuL_7tZp-y",
        "outputId": "bd0561b4-9645-4dfa-c5fa-3f335aa2bb3a"
      },
      "execution_count": 56,
      "outputs": [
        {
          "output_type": "stream",
          "name": "stdout",
          "text": [
            "+--------------------+------------+\n",
            "|independent_features|PremiumPrice|\n",
            "+--------------------+------------+\n",
            "|(10,[0,1,2,5,6],[...|       15000|\n",
            "|(10,[0,1,2,5,6],[...|       32000|\n",
            "|(10,[0,1,2,5,6],[...|       23000|\n",
            "|(10,[0,1,2,5,6],[...|       23000|\n",
            "|(10,[0,1,2,5,6],[...|       23000|\n",
            "|(10,[0,1,2,5,6],[...|       23000|\n",
            "|(10,[0,1,2,5,6],[...|       23000|\n",
            "|(10,[0,1,2,5,6],[...|       29000|\n",
            "|(10,[0,1,2,5,6],[...|       25000|\n",
            "|(10,[0,1,2,5,6],[...|       25000|\n",
            "|(10,[0,1,2,5,6],[...|       29000|\n",
            "|(10,[0,1,2,5,6],[...|       29000|\n",
            "|(10,[0,1,3,5,6],[...|       38000|\n",
            "|(10,[0,1,3,5,6],[...|       38000|\n",
            "|(10,[0,1,4,5,6],[...|       30000|\n",
            "|(10,[0,1,5,6],[19...|       15000|\n",
            "|(10,[0,1,5,6],[20...|       15000|\n",
            "|(10,[0,1,5,6],[21...|       15000|\n",
            "|(10,[0,1,5,6],[23...|       15000|\n",
            "|(10,[0,1,5,6],[24...|       15000|\n",
            "+--------------------+------------+\n",
            "only showing top 20 rows\n",
            "\n"
          ]
        }
      ]
    },
    {
      "cell_type": "code",
      "source": [
        "from pyspark.ml.regression import LinearRegression"
      ],
      "metadata": {
        "id": "TLYPzOHbaMtQ"
      },
      "execution_count": 58,
      "outputs": []
    },
    {
      "cell_type": "code",
      "source": [
        "lr = LinearRegression(featuresCol = \"independent_features\", labelCol = \"PremiumPrice\")"
      ],
      "metadata": {
        "id": "gQOuQLi0adeU"
      },
      "execution_count": 64,
      "outputs": []
    },
    {
      "cell_type": "code",
      "source": [
        "trained_model = lr.fit(train_data)"
      ],
      "metadata": {
        "id": "eG1mcW5FazSB"
      },
      "execution_count": 65,
      "outputs": []
    },
    {
      "cell_type": "code",
      "source": [
        "results = trained_model.evaluate(train_data)"
      ],
      "metadata": {
        "id": "-InzpLQra9Oc"
      },
      "execution_count": 66,
      "outputs": []
    },
    {
      "cell_type": "markdown",
      "source": [
        "METRICS"
      ],
      "metadata": {
        "id": "C9dn5qw9bmD6"
      }
    },
    {
      "cell_type": "code",
      "source": [
        "print(results.r2)"
      ],
      "metadata": {
        "colab": {
          "base_uri": "https://localhost:8080/"
        },
        "id": "KXs5qxlnbUOd",
        "outputId": "69471ee4-eade-4b99-cdf3-3e447f565859"
      },
      "execution_count": 67,
      "outputs": [
        {
          "output_type": "stream",
          "name": "stdout",
          "text": [
            "0.6503596806947105\n"
          ]
        }
      ]
    },
    {
      "cell_type": "code",
      "source": [
        "print(results.meanSquaredError)"
      ],
      "metadata": {
        "colab": {
          "base_uri": "https://localhost:8080/"
        },
        "id": "BSbtlPDObZU3",
        "outputId": "7d299337-91d9-4b8a-ec5c-10e018c89fe5"
      },
      "execution_count": 68,
      "outputs": [
        {
          "output_type": "stream",
          "name": "stdout",
          "text": [
            "13499367.13302893\n"
          ]
        }
      ]
    },
    {
      "cell_type": "code",
      "source": [
        "print(results.meanAbsoluteError)"
      ],
      "metadata": {
        "colab": {
          "base_uri": "https://localhost:8080/"
        },
        "id": "ImOGtHg0bcYI",
        "outputId": "035fe5ce-2d9b-4c89-fe7e-e208030c5db3"
      },
      "execution_count": 69,
      "outputs": [
        {
          "output_type": "stream",
          "name": "stdout",
          "text": [
            "2612.9963731209623\n"
          ]
        }
      ]
    },
    {
      "cell_type": "code",
      "source": [
        "print(results.r2adj)"
      ],
      "metadata": {
        "colab": {
          "base_uri": "https://localhost:8080/"
        },
        "id": "e8_wVKtkbe99",
        "outputId": "463feea4-5060-45fc-86a0-51f87d502dcc"
      },
      "execution_count": 70,
      "outputs": [
        {
          "output_type": "stream",
          "name": "stdout",
          "text": [
            "0.6453790493655753\n"
          ]
        }
      ]
    },
    {
      "cell_type": "markdown",
      "source": [
        "Testing the test dataset"
      ],
      "metadata": {
        "id": "rJ4s4MBVb1p1"
      }
    },
    {
      "cell_type": "code",
      "source": [
        "test_data = test_data.select([\"independent_features\"])"
      ],
      "metadata": {
        "id": "zhAD6_xabicx"
      },
      "execution_count": 71,
      "outputs": []
    },
    {
      "cell_type": "code",
      "source": [
        "predictions = trained_model.transform(test_data)"
      ],
      "metadata": {
        "id": "I_WGuj6mcAbc"
      },
      "execution_count": 72,
      "outputs": []
    },
    {
      "cell_type": "markdown",
      "source": [
        "Predictions of Test Data"
      ],
      "metadata": {
        "id": "xq0GPiV9cJLL"
      }
    },
    {
      "cell_type": "code",
      "source": [
        "predictions.show()"
      ],
      "metadata": {
        "colab": {
          "base_uri": "https://localhost:8080/"
        },
        "id": "CYia3FyUcHjs",
        "outputId": "ca091671-eb87-4deb-e394-9b9e897457be"
      },
      "execution_count": 73,
      "outputs": [
        {
          "output_type": "stream",
          "name": "stdout",
          "text": [
            "+--------------------+------------------+\n",
            "|independent_features|        prediction|\n",
            "+--------------------+------------------+\n",
            "|(10,[0,1,2,5,6],[...| 17207.75157392525|\n",
            "|(10,[0,1,2,5,6],[...|16696.686028407443|\n",
            "|(10,[0,1,2,5,6],[...| 18841.56618788353|\n",
            "|(10,[0,1,2,5,6],[...|19763.421282430376|\n",
            "|(10,[0,1,2,5,6],[...|19247.805736424223|\n",
            "|(10,[0,1,2,5,6],[...|22342.489155623858|\n",
            "|(10,[0,1,2,5,6],[...| 23951.98010349158|\n",
            "|(10,[0,1,2,5,6],[...|25813.592062170857|\n",
            "|(10,[0,1,2,5,6],[...|27424.366390282186|\n",
            "|(10,[0,1,2,5,6],[...|29225.897845923726|\n",
            "|(10,[0,1,2,5,6],[...|31247.290732606038|\n",
            "|(10,[0,1,2,5,6],[...|31058.345854618892|\n",
            "|(10,[0,1,3,5,6],[...|32565.978224589147|\n",
            "|(10,[0,1,3,5,6],[...|34378.592921208525|\n",
            "|(10,[0,1,4,5,6],[...|30958.673862223535|\n",
            "|(10,[0,1,5,6],[19...|15270.562883223252|\n",
            "|(10,[0,1,5,6],[20...|14570.612106191867|\n",
            "|(10,[0,1,5,6],[21...|15543.097772920983|\n",
            "|(10,[0,1,5,6],[23...| 18288.07023825466|\n",
            "|(10,[0,1,5,6],[24...|17196.289420378722|\n",
            "+--------------------+------------------+\n",
            "only showing top 20 rows\n",
            "\n"
          ]
        }
      ]
    },
    {
      "cell_type": "code",
      "source": [
        ""
      ],
      "metadata": {
        "id": "mxx3bKQdcNT5"
      },
      "execution_count": null,
      "outputs": []
    }
  ]
}